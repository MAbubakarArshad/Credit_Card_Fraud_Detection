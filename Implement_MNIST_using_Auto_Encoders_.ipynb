{
  "nbformat": 4,
  "nbformat_minor": 0,
  "metadata": {
    "colab": {
      "provenance": [],
      "authorship_tag": "ABX9TyNAXsXXHvtxCn5V72QWJ3pT",
      "include_colab_link": true
    },
    "kernelspec": {
      "name": "python3",
      "display_name": "Python 3"
    },
    "language_info": {
      "name": "python"
    }
  },
  "cells": [
    {
      "cell_type": "markdown",
      "metadata": {
        "id": "view-in-github",
        "colab_type": "text"
      },
      "source": [
        "<a href=\"https://colab.research.google.com/github/MAbubakarArshad/Credit_Card_Fraud_Detection/blob/main/Implement_MNIST_using_Auto_Encoders_.ipynb\" target=\"_parent\"><img src=\"https://colab.research.google.com/assets/colab-badge.svg\" alt=\"Open In Colab\"/></a>"
      ]
    },
    {
      "cell_type": "markdown",
      "source": [
        "# Importing necessary libraries."
      ],
      "metadata": {
        "id": "2oLK-d_stg1H"
      }
    },
    {
      "cell_type": "code",
      "execution_count": 1,
      "metadata": {
        "id": "jmmIV_mdtQBD"
      },
      "outputs": [],
      "source": [
        "#impoting necessary libraries\n",
        "import numpy as np\n",
        "import matplotlib.pyplot as plt\n",
        "import tensorflow as tf\n",
        "from tensorflow.keras.datasets import mnist\n",
        "from tensorflow.keras.layers import Input, Dense\n",
        "from keras.layers import Input, Dense\n",
        "from keras.models import Model\n",
        "import numpy as np\n",
        "import matplotlib.pyplot as plt\n",
        "%matplotlib inline"
      ]
    },
    {
      "cell_type": "markdown",
      "source": [
        "# Load the MNIST dataset and normalize the data"
      ],
      "metadata": {
        "id": "pvD_Oa1YtpF-"
      }
    },
    {
      "cell_type": "code",
      "source": [
        "#load the MNIST dataset and normalize the data\n",
        "(x_train, _), (x_test, _) = mnist.load_data()\n",
        "\n",
        "x_train = x_train.astype('float32') / 255.\n",
        "x_test = x_test.astype('float32') / 255.\n",
        "\n",
        "x_train = np.reshape(x_train, (len(x_train), np.prod(x_train.shape[1:])))\n",
        "x_test = np.reshape(x_test, (len(x_test), np.prod(x_test.shape[1:])))"
      ],
      "metadata": {
        "colab": {
          "base_uri": "https://localhost:8080/"
        },
        "id": "WxG-cMkBtTSz",
        "outputId": "585cb064-7405-4a8f-e3ee-a49d4b58cc58"
      },
      "execution_count": 2,
      "outputs": [
        {
          "output_type": "stream",
          "name": "stdout",
          "text": [
            "Downloading data from https://storage.googleapis.com/tensorflow/tf-keras-datasets/mnist.npz\n",
            "11490434/11490434 [==============================] - 0s 0us/step\n"
          ]
        }
      ]
    },
    {
      "cell_type": "markdown",
      "source": [
        "# Define the autoencoder model"
      ],
      "metadata": {
        "id": "KzR_3Kq4tykj"
      }
    },
    {
      "cell_type": "code",
      "source": [
        "input_img = Input(shape=(784,))\n",
        "encoded = Dense(128, activation='relu')(input_img)\n",
        "encoded = Dense(64, activation='relu')(encoded)\n",
        "encoded = Dense(32, activation='relu')(encoded)\n",
        "decoded = Dense(64, activation='relu')(encoded)\n",
        "decoded = Dense(128, activation='relu')(decoded)\n",
        "decoded = Dense(784, activation='sigmoid')(decoded)\n",
        "\n",
        "autoencoder = Model(input_img,decoded)"
      ],
      "metadata": {
        "id": "e2nuRaQBtVgU"
      },
      "execution_count": 3,
      "outputs": []
    },
    {
      "cell_type": "markdown",
      "source": [
        "**Compile the model using the Adam optimizer and mean squared error loss**"
      ],
      "metadata": {
        "id": "bpapMlDSt3oS"
      }
    },
    {
      "cell_type": "code",
      "source": [
        "autoencoder.compile(optimizer='adam', loss='mse')"
      ],
      "metadata": {
        "id": "k1KPjYFGtYBc"
      },
      "execution_count": 4,
      "outputs": []
    },
    {
      "cell_type": "markdown",
      "source": [
        "# Train the model on the MNIST training set"
      ],
      "metadata": {
        "id": "saYN1F30t-Ji"
      }
    },
    {
      "cell_type": "code",
      "source": [
        "history = autoencoder.fit(x_train, x_train,\n",
        "                          epochs=50,\n",
        "                          batch_size=256,\n",
        "                          shuffle=True,\n",
        "                          validation_data=(x_test,x_test))"
      ],
      "metadata": {
        "colab": {
          "base_uri": "https://localhost:8080/"
        },
        "id": "YRnefbSOtaVs",
        "outputId": "314eee4c-18ca-42bd-eec5-a52308441149"
      },
      "execution_count": 5,
      "outputs": [
        {
          "output_type": "stream",
          "name": "stdout",
          "text": [
            "Epoch 1/50\n",
            "235/235 [==============================] - 6s 16ms/step - loss: 0.0623 - val_loss: 0.0358\n",
            "Epoch 2/50\n",
            "235/235 [==============================] - 5s 19ms/step - loss: 0.0291 - val_loss: 0.0248\n",
            "Epoch 3/50\n",
            "235/235 [==============================] - 4s 15ms/step - loss: 0.0226 - val_loss: 0.0205\n",
            "Epoch 4/50\n",
            "235/235 [==============================] - 5s 19ms/step - loss: 0.0196 - val_loss: 0.0178\n",
            "Epoch 5/50\n",
            "235/235 [==============================] - 6s 26ms/step - loss: 0.0173 - val_loss: 0.0161\n",
            "Epoch 6/50\n",
            "235/235 [==============================] - 3s 14ms/step - loss: 0.0158 - val_loss: 0.0148\n",
            "Epoch 7/50\n",
            "235/235 [==============================] - 4s 17ms/step - loss: 0.0147 - val_loss: 0.0140\n",
            "Epoch 8/50\n",
            "235/235 [==============================] - 5s 19ms/step - loss: 0.0138 - val_loss: 0.0130\n",
            "Epoch 9/50\n",
            "235/235 [==============================] - 3s 14ms/step - loss: 0.0131 - val_loss: 0.0127\n",
            "Epoch 10/50\n",
            "235/235 [==============================] - 4s 15ms/step - loss: 0.0126 - val_loss: 0.0122\n",
            "Epoch 11/50\n",
            "235/235 [==============================] - 4s 19ms/step - loss: 0.0123 - val_loss: 0.0118\n",
            "Epoch 12/50\n",
            "235/235 [==============================] - 5s 20ms/step - loss: 0.0119 - val_loss: 0.0114\n",
            "Epoch 13/50\n",
            "235/235 [==============================] - 4s 15ms/step - loss: 0.0116 - val_loss: 0.0112\n",
            "Epoch 14/50\n",
            "235/235 [==============================] - 4s 18ms/step - loss: 0.0113 - val_loss: 0.0109\n",
            "Epoch 15/50\n",
            "235/235 [==============================] - 5s 20ms/step - loss: 0.0110 - val_loss: 0.0107\n",
            "Epoch 16/50\n",
            "235/235 [==============================] - 3s 15ms/step - loss: 0.0107 - val_loss: 0.0105\n",
            "Epoch 17/50\n",
            "235/235 [==============================] - 3s 14ms/step - loss: 0.0105 - val_loss: 0.0102\n",
            "Epoch 18/50\n",
            "235/235 [==============================] - 5s 22ms/step - loss: 0.0103 - val_loss: 0.0099\n",
            "Epoch 19/50\n",
            "235/235 [==============================] - 4s 15ms/step - loss: 0.0101 - val_loss: 0.0099\n",
            "Epoch 20/50\n",
            "235/235 [==============================] - 4s 19ms/step - loss: 0.0099 - val_loss: 0.0096\n",
            "Epoch 21/50\n",
            "235/235 [==============================] - 8s 32ms/step - loss: 0.0097 - val_loss: 0.0094\n",
            "Epoch 22/50\n",
            "235/235 [==============================] - 5s 20ms/step - loss: 0.0096 - val_loss: 0.0094\n",
            "Epoch 23/50\n",
            "235/235 [==============================] - 4s 19ms/step - loss: 0.0094 - val_loss: 0.0091\n",
            "Epoch 24/50\n",
            "235/235 [==============================] - 5s 19ms/step - loss: 0.0093 - val_loss: 0.0093\n",
            "Epoch 25/50\n",
            "235/235 [==============================] - 4s 18ms/step - loss: 0.0092 - val_loss: 0.0090\n",
            "Epoch 26/50\n",
            "235/235 [==============================] - 5s 21ms/step - loss: 0.0090 - val_loss: 0.0088\n",
            "Epoch 27/50\n",
            "235/235 [==============================] - 3s 15ms/step - loss: 0.0089 - val_loss: 0.0087\n",
            "Epoch 28/50\n",
            "235/235 [==============================] - 3s 14ms/step - loss: 0.0088 - val_loss: 0.0085\n",
            "Epoch 29/50\n",
            "235/235 [==============================] - 4s 18ms/step - loss: 0.0087 - val_loss: 0.0085\n",
            "Epoch 30/50\n",
            "235/235 [==============================] - 4s 17ms/step - loss: 0.0086 - val_loss: 0.0084\n",
            "Epoch 31/50\n",
            "235/235 [==============================] - 4s 17ms/step - loss: 0.0085 - val_loss: 0.0083\n",
            "Epoch 32/50\n",
            "235/235 [==============================] - 4s 18ms/step - loss: 0.0084 - val_loss: 0.0082\n",
            "Epoch 33/50\n",
            "235/235 [==============================] - 5s 20ms/step - loss: 0.0083 - val_loss: 0.0082\n",
            "Epoch 34/50\n",
            "235/235 [==============================] - 3s 14ms/step - loss: 0.0083 - val_loss: 0.0082\n",
            "Epoch 35/50\n",
            "235/235 [==============================] - 3s 14ms/step - loss: 0.0082 - val_loss: 0.0081\n",
            "Epoch 36/50\n",
            "235/235 [==============================] - 4s 19ms/step - loss: 0.0081 - val_loss: 0.0080\n",
            "Epoch 37/50\n",
            "235/235 [==============================] - 3s 14ms/step - loss: 0.0081 - val_loss: 0.0078\n",
            "Epoch 38/50\n",
            "235/235 [==============================] - 3s 15ms/step - loss: 0.0080 - val_loss: 0.0078\n",
            "Epoch 39/50\n",
            "235/235 [==============================] - 4s 18ms/step - loss: 0.0079 - val_loss: 0.0079\n",
            "Epoch 40/50\n",
            "235/235 [==============================] - 4s 16ms/step - loss: 0.0079 - val_loss: 0.0078\n",
            "Epoch 41/50\n",
            "235/235 [==============================] - 3s 14ms/step - loss: 0.0078 - val_loss: 0.0077\n",
            "Epoch 42/50\n",
            "235/235 [==============================] - 6s 25ms/step - loss: 0.0078 - val_loss: 0.0077\n",
            "Epoch 43/50\n",
            "235/235 [==============================] - 7s 28ms/step - loss: 0.0077 - val_loss: 0.0076\n",
            "Epoch 44/50\n",
            "235/235 [==============================] - 6s 27ms/step - loss: 0.0077 - val_loss: 0.0075\n",
            "Epoch 45/50\n",
            "235/235 [==============================] - 6s 25ms/step - loss: 0.0076 - val_loss: 0.0075\n",
            "Epoch 46/50\n",
            "235/235 [==============================] - 3s 14ms/step - loss: 0.0075 - val_loss: 0.0074\n",
            "Epoch 47/50\n",
            "235/235 [==============================] - 4s 18ms/step - loss: 0.0075 - val_loss: 0.0074\n",
            "Epoch 48/50\n",
            "235/235 [==============================] - 4s 16ms/step - loss: 0.0074 - val_loss: 0.0074\n",
            "Epoch 49/50\n",
            "235/235 [==============================] - 6s 26ms/step - loss: 0.0074 - val_loss: 0.0072\n",
            "Epoch 50/50\n",
            "235/235 [==============================] - 7s 30ms/step - loss: 0.0074 - val_loss: 0.0072\n"
          ]
        }
      ]
    },
    {
      "cell_type": "markdown",
      "source": [
        "# Model evaluation"
      ],
      "metadata": {
        "id": "z1G2CsFEuI7r"
      }
    },
    {
      "cell_type": "code",
      "source": [
        "\n",
        "def plotmodelhistory(history):\n",
        "    plt.plot(history.history['loss'])\n",
        "    plt.plot(history.history['val_loss'])\n",
        "    plt.title('Autoencoder Model loss')\n",
        "    plt.ylabel('Loss')\n",
        "    plt.xlabel('Epoch')\n",
        "    plt.legend(['Train', 'Test'], loc='upper left')\n",
        "    plt.show()\n",
        "\n",
        "# list all data in history\n",
        "print(history.history.keys())\n",
        "# visualization of the loss minimization during the training process\n",
        "plotmodelhistory(history)"
      ],
      "metadata": {
        "colab": {
          "base_uri": "https://localhost:8080/",
          "height": 489
        },
        "id": "cT9W4it0tdHW",
        "outputId": "0f420ae1-46ff-4bc1-e683-4c134c3eae91"
      },
      "execution_count": 6,
      "outputs": [
        {
          "output_type": "stream",
          "name": "stdout",
          "text": [
            "dict_keys(['loss', 'val_loss'])\n"
          ]
        },
        {
          "output_type": "display_data",
          "data": {
            "text/plain": [
              "<Figure size 640x480 with 1 Axes>"
            ],
            "image/png": "[encoded data removed]"
          },
          "metadata": {}
        }
      ]
    },
    {
      "cell_type": "markdown",
      "source": [
        "**Generate reconstructed images using the trained autoencoder**"
      ],
      "metadata": {
        "id": "opQGi1W2uQWw"
      }
    },
    {
      "cell_type": "code",
      "source": [
        "#finally we'll use the trained autoencoder to generate reconstructed images\n",
        "decoded_imgs = autoencoder.predict(x_test)\n",
        "\n",
        "n = 10\n",
        "plt.figure(figsize=(20, 4))\n",
        "for i in range(n):\n",
        "    # original images\n",
        "    ax = plt.subplot(2, n, i + 1)\n",
        "    plt.imshow(x_test[i].reshape(28, 28))\n",
        "    plt.gray()\n",
        "    ax.get_xaxis().set_visible(False)\n",
        "    ax.get_yaxis().set_visible(False)\n",
        "\n",
        "    # reconstructed images\n",
        "    ax = plt.subplot(2, n, i + 1 + n)\n",
        "    plt.imshow(decoded_imgs[i].reshape(28, 28))\n",
        "    plt.gray()\n",
        "    ax.get_xaxis().set_visible(False)\n",
        "    ax.get_yaxis().set_visible(False)\n",
        "plt.show()"
      ],
      "metadata": {
        "colab": {
          "base_uri": "https://localhost:8080/",
          "height": 255
        },
        "id": "WroVUQwiuMKK",
        "outputId": "ddfd91a4-7771-4082-e92b-2411969b25e6"
      },
      "execution_count": 7,
      "outputs": [
        {
          "output_type": "stream",
          "name": "stdout",
          "text": [
            "313/313 [==============================] - 1s 2ms/step\n"
          ]
        },
        {
          "output_type": "display_data",
          "data": {
            "text/plain": [
              "<Figure size 2000x400 with 20 Axes>"
            ],
            "image/png": "[encoded data removed]"
          },
          "metadata": {}
        }
      ]
    },
    {
      "cell_type": "code",
      "source": [],
      "metadata": {
        "id": "F1iDfbLEubM8"
      },
      "execution_count": null,
      "outputs": []
    }
  ]
}